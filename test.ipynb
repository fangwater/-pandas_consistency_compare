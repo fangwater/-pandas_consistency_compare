{
 "cells": [
  {
   "cell_type": "code",
   "execution_count": 20,
   "metadata": {},
   "outputs": [],
   "source": [
    "import json\n",
    "import os\n",
    "import pandas as pd\n",
    "import numpy as np\n",
    "with open('config.json') as f:\n",
    "    config = json.load(f)"
   ]
  },
  {
   "cell_type": "code",
   "execution_count": 21,
   "metadata": {},
   "outputs": [],
   "source": [
    "cpp_files = sorted(os.listdir(config[\"path_of_cpp\"]))\n",
    "py_files = sorted(os.listdir(config[\"path_of_python\"]))"
   ]
  },
  {
   "cell_type": "code",
   "execution_count": 42,
   "metadata": {},
   "outputs": [],
   "source": [
    "def compute_err(config,diff):\n",
    "    file_res = []\n",
    "    if config[\"error_compute\"]  == \"SAE\":\n",
    "        file_res.append(np.nansum(diff))\n",
    "    elif config[\"error_compute\"] == \"SSE\":\n",
    "        file_res.append(np.nansum(np.square(diff)))\n",
    "    elif config[\"error_compute\"] == \"MAE\":\n",
    "        mean_error = np.nanmean(diff)\n",
    "        file_res.append(mean_error)\n",
    "    elif config[\"error_compute\"] == \"MSE\":\n",
    "        n = np.count_nonzero(~np.isnan(diff))\n",
    "        mse = np.divide(np.nansum(np.square(diff)), n)\n",
    "        file_res.append(mse)\n",
    "    else:\n",
    "        exit(-1)\n",
    "    return file_res"
   ]
  },
  {
   "cell_type": "code",
   "execution_count": 112,
   "metadata": {},
   "outputs": [],
   "source": [
    "err_all = {}\n",
    "precision = config[\"float_acc\"]\n",
    "for file in cpp_files:\n",
    "    err_all[file] = []\n",
    "for cpp_file, py_file in zip(cpp_files, py_files):\n",
    "    cpp_table = pd.read_parquet(config[\"path_of_cpp\"] + \"/\" + cpp_file)\n",
    "    py_table = pd.read_parquet(config[\"path_of_python\"] + \"/\" + py_file)\n",
    "    if cpp_table.dtypes.to_dict() == py_table.dtypes.to_dict():\n",
    "        for col_name,col_type in cpp_table.dtypes.to_dict().items():\n",
    "            if col_type == np.dtype('float64'):\n",
    "                cpp_col = np.around(cpp_table[col_name].to_numpy(), decimals = precision)\n",
    "                py_col = np.around(py_table[col_name].to_numpy(), decimals = precision)\n",
    "                diff = np.absolute(cpp_col - py_col)\n",
    "                if config[\"nan_handling\"] == \"labeling\":\n",
    "                    indices = np.where(np.logical_or(np.isnan(cpp_col), np.isnan(py_col)))\n",
    "                    err_all[py_file].append((compute_err(config,diff),indices))\n",
    "                elif config[\"nan_handling\"] == \"ignore\":\n",
    "                    err_all[py_file].append(compute_err(config,diff))\n",
    "                else:\n",
    "                    err_all[py_file] = []\n",
    "            elif col_type == np.dtype('int64'):\n",
    "                cpp_col = cpp_table[col_name].to_numpy()\n",
    "                py_col = py_table[col_name].to_numpy()\n",
    "                diff = np.absolute(cpp_col - py_col)\n",
    "                if config[\"nan_handling\"] == \"labeling\":\n",
    "                    indices = np.where(np.logical_or(np.isnan(cpp_col), np.isnan(py_col)))\n",
    "                    err_all[py_file].append((compute_err(config,diff),indices))\n",
    "                elif config[\"nan_handling\"] == \"ignore\":\n",
    "                    err_all[py_file].append(compute_err(config,diff))\n",
    "                else:\n",
    "                    err_all[py_file] = []\n",
    "            else:\n",
    "                continue"
   ]
  },
  {
   "cell_type": "code",
   "execution_count": 113,
   "metadata": {},
   "outputs": [
    {
     "data": {
      "text/plain": [
       "{'000001.XSHE.parquet': [[0.0], [0.0], [0.0], [0.0], [0.0]],\n",
       " '000002.XSHE.parquet': [[0.0], [0.0], [0.0], [0.0], [0.0]],\n",
       " '000004.XSHE.parquet': [[0.0], [0.0], [0.0], [0.0], [0.0]],\n",
       " '000005.XSHE.parquet': [[0.0], [0.0], [0.0], [0.0], [0.0]],\n",
       " '000006.XSHE.parquet': [[0.0], [0.0], [0.0], [0.0], [0.0]],\n",
       " '000007.XSHE.parquet': [[0.0], [0.0], [0.0], [0.0], [0.0]],\n",
       " '000008.XSHE.parquet': [[0.0], [0.0], [0.0], [0.0], [0.0]],\n",
       " '000009.XSHE.parquet': [[0.0], [0.0], [0.0], [0.0], [0.0]]}"
      ]
     },
     "execution_count": 113,
     "metadata": {},
     "output_type": "execute_result"
    }
   ],
   "source": [
    "err_all"
   ]
  },
  {
   "cell_type": "code",
   "execution_count": 78,
   "metadata": {},
   "outputs": [
    {
     "name": "stdout",
     "output_type": "stream",
     "text": [
      "[0.0, [0.0]]\n",
      "[0.0, [0.0]]\n",
      "[0.0, [0.0]]\n",
      "[0.0, [0.0]]\n",
      "[0.0, [0.0]]\n",
      "[0.0, [0.0]]\n",
      "[0.0, [0.0]]\n",
      "[0.0, [0.0]]\n"
     ]
    }
   ],
   "source": [
    "#normal\n",
    "col_names = []\n",
    "cpp_table = pd.read_parquet(config[\"path_of_cpp\"] + \"/\" + cpp_files[0])\n",
    "for col_name,col_type in cpp_table.dtypes.to_dict().items():\n",
    "    col_names.append(col_name)\n",
    "for file in cpp_files:\n",
    "    err = err_all[file]\n",
    "    print(err)\n",
    "#per_col\n",
    "#per_table"
   ]
  },
  {
   "cell_type": "code",
   "execution_count": 12,
   "metadata": {},
   "outputs": [
    {
     "data": {
      "text/plain": [
       "['000008.XSHE.parquet',\n",
       " '000006.XSHE.parquet',\n",
       " '000005.XSHE.parquet',\n",
       " '000004.XSHE.parquet',\n",
       " '000009.XSHE.parquet',\n",
       " '000001.XSHE.parquet',\n",
       " '000002.XSHE.parquet',\n",
       " '000007.XSHE.parquet']"
      ]
     },
     "execution_count": 12,
     "metadata": {},
     "output_type": "execute_result"
    }
   ],
   "source": [
    "if config[\"format\"] == \"parquet\":\n",
    "    "
   ]
  }
 ],
 "metadata": {
  "kernelspec": {
   "display_name": "Python 3",
   "language": "python",
   "name": "python3"
  },
  "language_info": {
   "codemirror_mode": {
    "name": "ipython",
    "version": 3
   },
   "file_extension": ".py",
   "mimetype": "text/x-python",
   "name": "python",
   "nbconvert_exporter": "python",
   "pygments_lexer": "ipython3",
   "version": "3.10.6"
  },
  "orig_nbformat": 4
 },
 "nbformat": 4,
 "nbformat_minor": 2
}
